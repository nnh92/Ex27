{
  "nbformat": 4,
  "nbformat_minor": 0,
  "metadata": {
    "colab": {
      "provenance": [],
      "authorship_tag": "ABX9TyNJKeL2lF+ppewMb1ksgQ4G",
      "include_colab_link": true
    },
    "kernelspec": {
      "name": "python3",
      "display_name": "Python 3"
    },
    "language_info": {
      "name": "python"
    }
  },
  "cells": [
    {
      "cell_type": "markdown",
      "metadata": {
        "id": "view-in-github",
        "colab_type": "text"
      },
      "source": [
        "<a href=\"https://colab.research.google.com/github/nnh92/Ex27/blob/main/Ex27.ipynb\" target=\"_parent\"><img src=\"https://colab.research.google.com/assets/colab-badge.svg\" alt=\"Open In Colab\"/></a>"
      ]
    },
    {
      "cell_type": "code",
      "execution_count": 11,
      "metadata": {
        "colab": {
          "base_uri": "https://localhost:8080/"
        },
        "id": "RVK3I216tHXF",
        "outputId": "6f370a9e-52e0-46d0-81b3-f27e2cfdffb0"
      },
      "outputs": [
        {
          "output_type": "stream",
          "name": "stdout",
          "text": [
            "Nhap 2 so: -6 5\n",
            "Tong s =  -6\n"
          ]
        }
      ],
      "source": [
        "try:\n",
        "  a, b = map(int, input('Nhap 2 so: ').split())\n",
        "\n",
        "  s = 0\n",
        "\n",
        "  i = a\n",
        "\n",
        "  if a > b:\n",
        "    print('err: a > b')\n",
        "\n",
        "  else:\n",
        "\n",
        "    while i <= b:\n",
        "      s += i\n",
        "      i += 1\n",
        "\n",
        "    print('Tong s = ', s)\n",
        "\n",
        "except:\n",
        "  print('Dau vao ko hop le!')\n"
      ]
    }
  ]
}