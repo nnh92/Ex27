{
  "nbformat": 4,
  "nbformat_minor": 0,
  "metadata": {
    "colab": {
      "provenance": [],
      "authorship_tag": "ABX9TyMdZN4C6izOvDmEHXfuYX6L",
      "include_colab_link": true
    },
    "kernelspec": {
      "name": "python3",
      "display_name": "Python 3"
    },
    "language_info": {
      "name": "python"
    }
  },
  "cells": [
    {
      "cell_type": "markdown",
      "metadata": {
        "id": "view-in-github",
        "colab_type": "text"
      },
      "source": [
        "<a href=\"https://colab.research.google.com/github/nnh92/Ex27/blob/main/Ex27.ipynb\" target=\"_parent\"><img src=\"https://colab.research.google.com/assets/colab-badge.svg\" alt=\"Open In Colab\"/></a>"
      ]
    },
    {
      "cell_type": "code",
      "execution_count": 8,
      "metadata": {
        "colab": {
          "base_uri": "https://localhost:8080/"
        },
        "id": "RVK3I216tHXF",
        "outputId": "3a26a580-9553-4729-e48c-6b83022fa75e"
      },
      "outputs": [
        {
          "output_type": "stream",
          "name": "stdout",
          "text": [
            "Nhap 2 so: 6 999\n",
            "Tong s =  499485\n"
          ]
        }
      ],
      "source": [
        "try:\n",
        "  a, b = map(int, input('Nhap 2 so: ').split())\n",
        "\n",
        "  s = 0\n",
        "\n",
        "  if a > b:\n",
        "    print('err: a > b')\n",
        "\n",
        "  else:\n",
        "\n",
        "    for i in range(a, b + 1):\n",
        "      s += i\n",
        "\n",
        "    print('Tong s = ', s)\n",
        "\n",
        "except:\n",
        "  print('Dau vao ko hop le!')\n"
      ]
    }
  ]
}